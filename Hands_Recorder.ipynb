{
  "cells": [
    {
      "cell_type": "markdown",
      "metadata": {
        "id": "view-in-github",
        "colab_type": "text"
      },
      "source": [
        "<a href=\"https://colab.research.google.com/github/Manggy94/PokerBrain/blob/master/Hands_Recorder.ipynb\" target=\"_parent\"><img src=\"https://colab.research.google.com/assets/colab-badge.svg\" alt=\"Open In Colab\"/></a>"
      ]
    },
    {
      "cell_type": "markdown",
      "metadata": {
        "id": "NeD902fjfS5D"
      },
      "source": [
        "#Introduction\n",
        "\n",
        "This notebook is intended to record Hands from .txt files of different poker rooms, especially WINAMAX. To do so we'll use special objects from custom python modules: FileParser and HandConverter. Doc can be found on GitHub: https://github.com/Manggy94/PokerBrain."
      ]
    },
    {
      "cell_type": "markdown",
      "metadata": {
        "id": "vwrav1D0fPUR"
      },
      "source": [
        "#Preparation steps"
      ]
    },
    {
      "cell_type": "markdown",
      "metadata": {
        "id": "TOiRECdRmn-V"
      },
      "source": [
        "First, We have to mount drive and verify its content, to add it to our path"
      ]
    },
    {
      "cell_type": "code",
      "execution_count": null,
      "metadata": {
        "colab": {
          "base_uri": "https://localhost:8080/"
        },
        "id": "RWSJpsyKqHjH",
        "outputId": "52eee6b2-7313-4cca-bec4-19d2bc79f72b"
      },
      "outputs": [
        {
          "output_type": "stream",
          "name": "stdout",
          "text": [
            "Drive already mounted at /content/drive; to attempt to forcibly remount, call drive.mount(\"/content/drive\", force_remount=True).\n"
          ]
        }
      ],
      "source": [
        "from google.colab import drive\n",
        "drive.mount('/content/drive')"
      ]
    },
    {
      "cell_type": "markdown",
      "metadata": {
        "id": "qOmOQEDiZMC5"
      },
      "source": [
        "Then we can import necessary libraries and modules\n",
        "\n"
      ]
    },
    {
      "cell_type": "code",
      "execution_count": null,
      "metadata": {
        "id": "MQjU80DZfLsj"
      },
      "outputs": [],
      "source": [
        "!pip install treys\n",
        "import sys\n",
        "import os\n",
        "sys.path.append('/content/drive/MyDrive/PokerBrain/PokerBrain')\n",
        "from preprocessor import Preprocessor\n",
        "import numpy as np\n",
        "import pandas as pd\n",
        "import datetime\n",
        "import multiprocessing"
      ]
    },
    {
      "cell_type": "code",
      "execution_count": null,
      "metadata": {
        "id": "NmeHt1ta7Mf3"
      },
      "outputs": [],
      "source": [
        "os.getcwd()"
      ]
    },
    {
      "cell_type": "code",
      "execution_count": null,
      "metadata": {
        "id": "MvkTHThpYPGf"
      },
      "outputs": [],
      "source": [
        "if os.getcwd() != \"/content/drive/MyDrive/PokerBrain/PokerBrain\":\n",
        "  os.chdir(f\"{os.getcwd()}/drive/MyDrive/PokerBrain/PokerBrain\")"
      ]
    },
    {
      "cell_type": "code",
      "execution_count": null,
      "metadata": {
        "id": "GgLcME5vr26p"
      },
      "outputs": [],
      "source": [
        "pp = Preprocessor()"
      ]
    },
    {
      "cell_type": "code",
      "execution_count": null,
      "metadata": {
        "id": "SV-jKSBSqmij"
      },
      "outputs": [],
      "source": [
        "def register_hands(parse_all: bool=False):\n",
        "  files = pp.conv.parser.get_holdem_game_files(\"history\")\n",
        "  if parse_all:\n",
        "    stored_files = np.array([])\n",
        "  else:\n",
        "    stored_files = np.array([filename.replace(\".csv\",\"\") for filename in os.listdir(f\"Histories/Hands\")])\n",
        "  pending = np.array([x for x in files if x.replace(\".txt\", \"\") not in stored_files])\n",
        "  print(pending.size)\n",
        "  count_files, count_stored = files.size, stored_files.size\n",
        "  total = pending.size\n",
        "  print(f\"There are {total} Files to register\")\n",
        "  count=0\n",
        "  actual_count = 0\n",
        "  for file_ in pending:\n",
        "    print(file_)\n",
        "    count+=1\n",
        "    np_hands = pp.conv.parser.parse_file(file_)\n",
        "    print(np_hands)\n",
        "    np_hands = pp.conv.filter(np_hands)\n",
        "    if np_hands.size > 0:\n",
        "      print(f\"File n°{count}: {np_hands.size} hands\")\n",
        "      actual_count+=1\n",
        "      hands = pp.conv.build_hands(np_hands)\n",
        "      hands.to_csv(f\"{os.getcwd()}/Histories/Hands/{file_.replace('.txt', '')}.csv\")\n",
        "    else:\n",
        "      print(f\"File n°{count}: Empty\")\n",
        "    print(f\"({count}/{total}): {np.round(count/total*100, 2)}%\")\n",
        "  print(f\"{actual_count}/{total} files have been registered with at least one hand\")\n"
      ]
    },
    {
      "cell_type": "code",
      "execution_count": null,
      "metadata": {
        "id": "qcUyxNaawP_h"
      },
      "outputs": [],
      "source": [
        "register_hands()"
      ]
    },
    {
      "cell_type": "code",
      "execution_count": null,
      "metadata": {
        "id": "czrkBeMgmbI5"
      },
      "outputs": [],
      "source": [
        "stored_files = np.array([filename.replace(\".csv\",\"\") for filename in os.listdir(f\"Histories/Hands\")])\n",
        "data = pd.concat([pd.read_csv(f\"{os.getcwd()}/Histories/Hands/{file}.csv\", index_col=0) for file in stored_files], ignore_index=True)"
      ]
    },
    {
      "cell_type": "code",
      "execution_count": null,
      "metadata": {
        "id": "AoJwcTpPJifz"
      },
      "outputs": [],
      "source": [
        "data.head()"
      ]
    },
    {
      "cell_type": "code",
      "execution_count": null,
      "metadata": {
        "colab": {
          "base_uri": "https://localhost:8080/"
        },
        "id": "9waCKDfnyjKj",
        "outputId": "d91b7e2c-e72b-4ca8-acac-2a5423bc8f7f"
      },
      "outputs": [
        {
          "output_type": "execute_result",
          "data": {
            "text/plain": [
              "(88185, 591)"
            ]
          },
          "metadata": {},
          "execution_count": 11
        }
      ],
      "source": [
        "data.shape"
      ]
    },
    {
      "cell_type": "code",
      "execution_count": null,
      "metadata": {
        "id": "p7iz6BchlfZg"
      },
      "outputs": [],
      "source": [
        "data.to_csv(f\"{os.getcwd()}/Data/combo_data_tab.csv\")"
      ]
    },
    {
      "cell_type": "code",
      "execution_count": null,
      "metadata": {
        "id": "waNMVfawAVJI"
      },
      "outputs": [],
      "source": [
        "interest_pos = [\"UTG_\", \"HJ_\", \"CO_\", \"BTN_\", \"SB_\", \"BB_\"]"
      ]
    },
    {
      "cell_type": "code",
      "execution_count": null,
      "metadata": {
        "id": "jseYMRmqCSp4"
      },
      "outputs": [],
      "source": [
        "from API.listings import str_hands"
      ]
    },
    {
      "cell_type": "code",
      "execution_count": null,
      "metadata": {
        "id": "axricvdIOYg8"
      },
      "outputs": [],
      "source": [
        "dico = {}\n",
        "for x in str_hands:\n",
        "  dico[x] = f\"{x}\"\n",
        "dico[\"22.0\"] = \"22\"\n",
        "dico[\"33.0\"] = \"33\"\n",
        "dico[\"44.0\"] = \"44\"\n",
        "dico[\"55.0\"] = \"55\"\n",
        "dico[\"66.0\"] = \"66\"\n",
        "dico[\"77.0\"] = \"77\"\n",
        "dico[\"88.0\"] = \"88\"\n",
        "dico[\"99.0\"] = \"99\"\n",
        "dico[\"None\"] = \"None\"\n",
        "card_cols = [x for x in data.columns if \"Card\" in x]\n",
        "hero_cols = [x for x in data.columns if \"hero\" in x]\n",
        "flop_cols = [x for x in data.columns if \"is\" in x or \"has\" in x]"
      ]
    },
    {
      "cell_type": "code",
      "execution_count": null,
      "metadata": {
        "id": "6pM26nWuOgne"
      },
      "outputs": [],
      "source": [
        "to_concat =[]\n",
        "for pos in interest_pos:\n",
        "  n = len(pos)\n",
        "  cols = [x for x in data.columns if pos in x ]\n",
        "  new_cols = [x[n:] for x in cols]\n",
        "  cols = [\"level\", \"bb\", \"max_pl\", \"current_street\"]+ hero_cols + cols + card_cols + flop_cols \n",
        "  new_cols = [\"level\", \"bb\", \"max_pl\", \"current_street\"] + hero_cols + new_cols + card_cols + flop_cols + [\"position\"]\n",
        "  data_tab = data[cols].to_numpy()\n",
        "  position = np.ones((data.shape[0],1)).astype(str)\n",
        "  position[:] = pos[:-1]\n",
        "  data_tab = np.concatenate((data_tab, position), axis=1)\n",
        "  concat_df = pd.DataFrame(columns=new_cols, data=data_tab)\n",
        "  to_concat.append(concat_df)\n",
        "obs_data= pd.concat(to_concat).reset_index(drop=True)\n",
        "obs_data[\"hand\"] = obs_data[\"hand\"].map(dico)\n",
        "obs_data[\"hero_hand\"] = obs_data[\"hero_hand\"].map(dico)\n",
        "#del(to_concat, n, new_cols, cols, position, concat_df, data_tab, dico)"
      ]
    },
    {
      "cell_type": "code",
      "execution_count": null,
      "metadata": {
        "id": "dFVT4baiAhqL"
      },
      "outputs": [],
      "source": [
        "obs_data"
      ]
    },
    {
      "cell_type": "code",
      "execution_count": null,
      "metadata": {
        "id": "3EYAJmyIifdQ"
      },
      "outputs": [],
      "source": [
        "filter1 =~ obs_data[\"hand\"].isin([\"None\", np.NaN])\n",
        "shown_hands = obs_data[filter1].reset_index(drop=True)\n",
        "filter2 = shown_hands[\"max_pl\"] <7\n",
        "short_handed = shown_hands[filter2].reset_index(drop=True)\n",
        "filter3 = short_handed[\"current_street\"] == \"SD\"\n",
        "WTSD = short_handed[filter3].reset_index(drop=True)\n",
        "filter4 = short_handed[\"hero_position\"] != short_handed[\"position\"]\n",
        "training_hands = short_handed[filter4].reset_index(drop=True)"
      ]
    },
    {
      "cell_type": "code",
      "execution_count": null,
      "metadata": {
        "id": "aiqK2X8VCWZH"
      },
      "outputs": [],
      "source": [
        "features, hand_labels, combo_labels = shown_hands.drop([\"hand\", \"combo\"], axis=1), shown_hands[\"hand\"], shown_hands[\"combo\"]"
      ]
    },
    {
      "cell_type": "code",
      "execution_count": null,
      "metadata": {
        "colab": {
          "base_uri": "https://localhost:8080/"
        },
        "id": "IPdEtPpRLWgi",
        "outputId": "bca3724d-8965-4334-e0dd-5003ec6ddb1c"
      },
      "outputs": [
        {
          "output_type": "execute_result",
          "data": {
            "text/plain": [
              "((135710, 101), (135710,), (135710,))"
            ]
          },
          "metadata": {},
          "execution_count": 20
        }
      ],
      "source": [
        "features.shape, hand_labels.shape, combo_labels.shape"
      ]
    },
    {
      "cell_type": "code",
      "execution_count": null,
      "metadata": {
        "id": "saNn0Mo33fgN"
      },
      "outputs": [],
      "source": [
        "filter = features[\"hero_position\"] != features[\"position\"]\n",
        "training_features = features[filter].reset_index(drop=True)\n",
        "training_combos=combo_labels[filter].reset_index(drop=True)\n",
        "training_hands=hand_labels[filter].reset_index(drop=True)"
      ]
    },
    {
      "cell_type": "code",
      "execution_count": null,
      "metadata": {
        "id": "oF5a-27TFUfQ"
      },
      "outputs": [],
      "source": [
        "features.to_csv(f\"{os.getcwd()}/Data/features_tab.csv\")\n",
        "features"
      ]
    },
    {
      "cell_type": "code",
      "execution_count": null,
      "metadata": {
        "id": "3l7MrPzxIlOA"
      },
      "outputs": [],
      "source": [
        "training_features.to_csv(f\"{os.getcwd()}/Data/training_features.csv\")\n",
        "training_features"
      ]
    },
    {
      "cell_type": "code",
      "execution_count": null,
      "metadata": {
        "id": "yLNMRu_WEw-g"
      },
      "outputs": [],
      "source": [
        "hand_labels.to_csv(f\"{os.getcwd()}/Data/hand_labels_tab.csv\")\n",
        "hand_labels"
      ]
    },
    {
      "cell_type": "code",
      "execution_count": null,
      "metadata": {
        "id": "SBlUD5K2GYwx"
      },
      "outputs": [],
      "source": [
        "training_hands.to_csv(f\"{os.getcwd()}/Data/training_hands.csv\")\n",
        "training_hands"
      ]
    },
    {
      "cell_type": "code",
      "execution_count": null,
      "metadata": {
        "id": "qcEQv_NhAydu"
      },
      "outputs": [],
      "source": [
        "combo_labels.to_csv(f\"{os.getcwd()}/Data/combo_labels_tab.csv\")\n",
        "combo_labels"
      ]
    },
    {
      "cell_type": "code",
      "execution_count": null,
      "metadata": {
        "id": "WGw12-UFGPXN"
      },
      "outputs": [],
      "source": [
        "training_combos.to_csv(f\"{os.getcwd()}/Data/training_combos.csv\")\n",
        "training_combos"
      ]
    }
  ],
  "metadata": {
    "colab": {
      "collapsed_sections": [],
      "name": "Hands Recorder.ipynb",
      "provenance": [],
      "authorship_tag": "ABX9TyP2xNeFqzibuKngqSguZdN9",
      "include_colab_link": true
    },
    "kernelspec": {
      "display_name": "Python 3",
      "name": "python3"
    },
    "language_info": {
      "name": "python"
    }
  },
  "nbformat": 4,
  "nbformat_minor": 0
}